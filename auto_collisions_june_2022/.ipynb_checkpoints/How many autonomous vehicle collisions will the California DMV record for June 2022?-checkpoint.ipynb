{
 "cells": [
  {
   "cell_type": "markdown",
   "id": "3b892240",
   "metadata": {},
   "source": [
    "# 2022-06-17 How many autonomous vehicle collisions will the California DMV record for June 2022?"
   ]
  },
  {
   "cell_type": "code",
   "execution_count": 178,
   "id": "6ea98d7a",
   "metadata": {},
   "outputs": [],
   "source": [
    "import numpy as np\n",
    "from scipy.stats import norm\n",
    "\n",
    "import pandas as pd\n",
    "import seaborn as sns\n",
    "import matplotlib.pyplot as plt"
   ]
  },
  {
   "cell_type": "code",
   "execution_count": 12,
   "id": "503eb712",
   "metadata": {},
   "outputs": [],
   "source": [
    "collision_dates = open(\"collision_dates.txt\").readlines()"
   ]
  },
  {
   "cell_type": "code",
   "execution_count": 13,
   "id": "90c20181",
   "metadata": {},
   "outputs": [],
   "source": [
    "months = [\n",
    "    'January',\n",
    "    'February',\n",
    "    'March',\n",
    "    'April',\n",
    "    'May',\n",
    "    'June',\n",
    "    'July',\n",
    "    'August',\n",
    "    'September',\n",
    "    'October',\n",
    "    'November',\n",
    "    'December',\n",
    "]"
   ]
  },
  {
   "cell_type": "code",
   "execution_count": 39,
   "id": "0fbb8573",
   "metadata": {},
   "outputs": [],
   "source": [
    "collisions = []\n",
    "for collision in collision_dates:\n",
    "    collision = collision.rstrip()\n",
    "    collision_data = collision.split()\n",
    "    \n",
    "    for i, entry in enumerate(collision_data):\n",
    "        if entry in months:\n",
    "            collision_data[0] = ' '.join(collision_data[:i])\n",
    "            del collision_data[1:i]\n",
    "            break\n",
    "            \n",
    "    collision_data = collision_data[:4]\n",
    "    collision_data[2] = int(collision_data[2][:1])\n",
    "    collision_data[3] = int(collision_data[3])\n",
    "    collisions.append(collision_data)"
   ]
  },
  {
   "cell_type": "code",
   "execution_count": 43,
   "id": "50094ca5",
   "metadata": {},
   "outputs": [],
   "source": [
    "collisions_df = pd.DataFrame(collisions, columns=['Company', 'Month', 'Day', 'Year'])"
   ]
  },
  {
   "cell_type": "code",
   "execution_count": 193,
   "id": "0e61abed",
   "metadata": {},
   "outputs": [
    {
     "data": {
      "text/html": [
       "<div>\n",
       "<style scoped>\n",
       "    .dataframe tbody tr th:only-of-type {\n",
       "        vertical-align: middle;\n",
       "    }\n",
       "\n",
       "    .dataframe tbody tr th {\n",
       "        vertical-align: top;\n",
       "    }\n",
       "\n",
       "    .dataframe thead th {\n",
       "        text-align: right;\n",
       "    }\n",
       "</style>\n",
       "<table border=\"1\" class=\"dataframe\">\n",
       "  <thead>\n",
       "    <tr style=\"text-align: right;\">\n",
       "      <th></th>\n",
       "      <th>Company</th>\n",
       "      <th>Month</th>\n",
       "      <th>Day</th>\n",
       "      <th>Year</th>\n",
       "    </tr>\n",
       "  </thead>\n",
       "  <tbody>\n",
       "    <tr>\n",
       "      <th>0</th>\n",
       "      <td>Cruise</td>\n",
       "      <td>June</td>\n",
       "      <td>3</td>\n",
       "      <td>2022</td>\n",
       "    </tr>\n",
       "    <tr>\n",
       "      <th>1</th>\n",
       "      <td>Cruise</td>\n",
       "      <td>June</td>\n",
       "      <td>2</td>\n",
       "      <td>2022</td>\n",
       "    </tr>\n",
       "    <tr>\n",
       "      <th>2</th>\n",
       "      <td>Waymo</td>\n",
       "      <td>June</td>\n",
       "      <td>1</td>\n",
       "      <td>2022</td>\n",
       "    </tr>\n",
       "    <tr>\n",
       "      <th>3</th>\n",
       "      <td>Zoox</td>\n",
       "      <td>June</td>\n",
       "      <td>1</td>\n",
       "      <td>2022</td>\n",
       "    </tr>\n",
       "    <tr>\n",
       "      <th>4</th>\n",
       "      <td>Zoox</td>\n",
       "      <td>June</td>\n",
       "      <td>1</td>\n",
       "      <td>2022</td>\n",
       "    </tr>\n",
       "    <tr>\n",
       "      <th>...</th>\n",
       "      <td>...</td>\n",
       "      <td>...</td>\n",
       "      <td>...</td>\n",
       "      <td>...</td>\n",
       "    </tr>\n",
       "    <tr>\n",
       "      <th>450</th>\n",
       "      <td>Google</td>\n",
       "      <td>April</td>\n",
       "      <td>1</td>\n",
       "      <td>2017</td>\n",
       "    </tr>\n",
       "    <tr>\n",
       "      <th>451</th>\n",
       "      <td>Google</td>\n",
       "      <td>March</td>\n",
       "      <td>2</td>\n",
       "      <td>2017</td>\n",
       "    </tr>\n",
       "    <tr>\n",
       "      <th>452</th>\n",
       "      <td>GM Cruise</td>\n",
       "      <td>March</td>\n",
       "      <td>2</td>\n",
       "      <td>2017</td>\n",
       "    </tr>\n",
       "    <tr>\n",
       "      <th>453</th>\n",
       "      <td>GM Cruise</td>\n",
       "      <td>March</td>\n",
       "      <td>2</td>\n",
       "      <td>2017</td>\n",
       "    </tr>\n",
       "    <tr>\n",
       "      <th>454</th>\n",
       "      <td>GM Cruise</td>\n",
       "      <td>February</td>\n",
       "      <td>1</td>\n",
       "      <td>2017</td>\n",
       "    </tr>\n",
       "  </tbody>\n",
       "</table>\n",
       "<p>455 rows × 4 columns</p>\n",
       "</div>"
      ],
      "text/plain": [
       "       Company     Month  Day  Year\n",
       "0       Cruise      June    3  2022\n",
       "1       Cruise      June    2  2022\n",
       "2        Waymo      June    1  2022\n",
       "3         Zoox      June    1  2022\n",
       "4         Zoox      June    1  2022\n",
       "..         ...       ...  ...   ...\n",
       "450     Google     April    1  2017\n",
       "451     Google     March    2  2017\n",
       "452  GM Cruise     March    2  2017\n",
       "453  GM Cruise     March    2  2017\n",
       "454  GM Cruise  February    1  2017\n",
       "\n",
       "[455 rows x 4 columns]"
      ]
     },
     "execution_count": 193,
     "metadata": {},
     "output_type": "execute_result"
    }
   ],
   "source": [
    "collisions_df"
   ]
  },
  {
   "cell_type": "code",
   "execution_count": 196,
   "id": "b3d9081d",
   "metadata": {},
   "outputs": [
    {
     "data": {
      "text/html": [
       "<div>\n",
       "<style scoped>\n",
       "    .dataframe tbody tr th:only-of-type {\n",
       "        vertical-align: middle;\n",
       "    }\n",
       "\n",
       "    .dataframe tbody tr th {\n",
       "        vertical-align: top;\n",
       "    }\n",
       "\n",
       "    .dataframe thead th {\n",
       "        text-align: right;\n",
       "    }\n",
       "</style>\n",
       "<table border=\"1\" class=\"dataframe\">\n",
       "  <thead>\n",
       "    <tr style=\"text-align: right;\">\n",
       "      <th></th>\n",
       "      <th>Company</th>\n",
       "      <th>Month</th>\n",
       "      <th>Day</th>\n",
       "      <th>Year</th>\n",
       "    </tr>\n",
       "  </thead>\n",
       "  <tbody>\n",
       "    <tr>\n",
       "      <th>0</th>\n",
       "      <td>Cruise</td>\n",
       "      <td>June</td>\n",
       "      <td>3</td>\n",
       "      <td>2022</td>\n",
       "    </tr>\n",
       "    <tr>\n",
       "      <th>1</th>\n",
       "      <td>Cruise</td>\n",
       "      <td>June</td>\n",
       "      <td>2</td>\n",
       "      <td>2022</td>\n",
       "    </tr>\n",
       "    <tr>\n",
       "      <th>2</th>\n",
       "      <td>Waymo</td>\n",
       "      <td>June</td>\n",
       "      <td>1</td>\n",
       "      <td>2022</td>\n",
       "    </tr>\n",
       "    <tr>\n",
       "      <th>3</th>\n",
       "      <td>Zoox</td>\n",
       "      <td>June</td>\n",
       "      <td>1</td>\n",
       "      <td>2022</td>\n",
       "    </tr>\n",
       "    <tr>\n",
       "      <th>4</th>\n",
       "      <td>Zoox</td>\n",
       "      <td>June</td>\n",
       "      <td>1</td>\n",
       "      <td>2022</td>\n",
       "    </tr>\n",
       "    <tr>\n",
       "      <th>...</th>\n",
       "      <td>...</td>\n",
       "      <td>...</td>\n",
       "      <td>...</td>\n",
       "      <td>...</td>\n",
       "    </tr>\n",
       "    <tr>\n",
       "      <th>450</th>\n",
       "      <td>Google</td>\n",
       "      <td>April</td>\n",
       "      <td>1</td>\n",
       "      <td>2017</td>\n",
       "    </tr>\n",
       "    <tr>\n",
       "      <th>451</th>\n",
       "      <td>Google</td>\n",
       "      <td>March</td>\n",
       "      <td>2</td>\n",
       "      <td>2017</td>\n",
       "    </tr>\n",
       "    <tr>\n",
       "      <th>452</th>\n",
       "      <td>GM Cruise</td>\n",
       "      <td>March</td>\n",
       "      <td>2</td>\n",
       "      <td>2017</td>\n",
       "    </tr>\n",
       "    <tr>\n",
       "      <th>453</th>\n",
       "      <td>GM Cruise</td>\n",
       "      <td>March</td>\n",
       "      <td>2</td>\n",
       "      <td>2017</td>\n",
       "    </tr>\n",
       "    <tr>\n",
       "      <th>454</th>\n",
       "      <td>GM Cruise</td>\n",
       "      <td>February</td>\n",
       "      <td>1</td>\n",
       "      <td>2017</td>\n",
       "    </tr>\n",
       "  </tbody>\n",
       "</table>\n",
       "<p>455 rows × 4 columns</p>\n",
       "</div>"
      ],
      "text/plain": [
       "       Company     Month  Day  Year\n",
       "0       Cruise      June    3  2022\n",
       "1       Cruise      June    2  2022\n",
       "2        Waymo      June    1  2022\n",
       "3         Zoox      June    1  2022\n",
       "4         Zoox      June    1  2022\n",
       "..         ...       ...  ...   ...\n",
       "450     Google     April    1  2017\n",
       "451     Google     March    2  2017\n",
       "452  GM Cruise     March    2  2017\n",
       "453  GM Cruise     March    2  2017\n",
       "454  GM Cruise  February    1  2017\n",
       "\n",
       "[455 rows x 4 columns]"
      ]
     },
     "execution_count": 196,
     "metadata": {},
     "output_type": "execute_result"
    }
   ],
   "source": [
    "collisions_df"
   ]
  },
  {
   "cell_type": "code",
   "execution_count": 198,
   "id": "99417079",
   "metadata": {},
   "outputs": [
    {
     "data": {
      "text/html": [
       "<div>\n",
       "<style scoped>\n",
       "    .dataframe tbody tr th:only-of-type {\n",
       "        vertical-align: middle;\n",
       "    }\n",
       "\n",
       "    .dataframe tbody tr th {\n",
       "        vertical-align: top;\n",
       "    }\n",
       "\n",
       "    .dataframe thead th {\n",
       "        text-align: right;\n",
       "    }\n",
       "</style>\n",
       "<table border=\"1\" class=\"dataframe\">\n",
       "  <thead>\n",
       "    <tr style=\"text-align: right;\">\n",
       "      <th></th>\n",
       "      <th>Year</th>\n",
       "      <th>Month</th>\n",
       "      <th>0</th>\n",
       "    </tr>\n",
       "  </thead>\n",
       "  <tbody>\n",
       "    <tr>\n",
       "      <th>0</th>\n",
       "      <td>2017</td>\n",
       "      <td>April</td>\n",
       "      <td>1</td>\n",
       "    </tr>\n",
       "    <tr>\n",
       "      <th>1</th>\n",
       "      <td>2017</td>\n",
       "      <td>August</td>\n",
       "      <td>2</td>\n",
       "    </tr>\n",
       "    <tr>\n",
       "      <th>2</th>\n",
       "      <td>2017</td>\n",
       "      <td>December</td>\n",
       "      <td>1</td>\n",
       "    </tr>\n",
       "    <tr>\n",
       "      <th>3</th>\n",
       "      <td>2017</td>\n",
       "      <td>February</td>\n",
       "      <td>1</td>\n",
       "    </tr>\n",
       "    <tr>\n",
       "      <th>4</th>\n",
       "      <td>2017</td>\n",
       "      <td>July</td>\n",
       "      <td>1</td>\n",
       "    </tr>\n",
       "    <tr>\n",
       "      <th>...</th>\n",
       "      <td>...</td>\n",
       "      <td>...</td>\n",
       "      <td>...</td>\n",
       "    </tr>\n",
       "    <tr>\n",
       "      <th>58</th>\n",
       "      <td>2022</td>\n",
       "      <td>February</td>\n",
       "      <td>19</td>\n",
       "    </tr>\n",
       "    <tr>\n",
       "      <th>59</th>\n",
       "      <td>2022</td>\n",
       "      <td>January</td>\n",
       "      <td>14</td>\n",
       "    </tr>\n",
       "    <tr>\n",
       "      <th>60</th>\n",
       "      <td>2022</td>\n",
       "      <td>June</td>\n",
       "      <td>5</td>\n",
       "    </tr>\n",
       "    <tr>\n",
       "      <th>61</th>\n",
       "      <td>2022</td>\n",
       "      <td>March</td>\n",
       "      <td>14</td>\n",
       "    </tr>\n",
       "    <tr>\n",
       "      <th>62</th>\n",
       "      <td>2022</td>\n",
       "      <td>May</td>\n",
       "      <td>12</td>\n",
       "    </tr>\n",
       "  </tbody>\n",
       "</table>\n",
       "<p>63 rows × 3 columns</p>\n",
       "</div>"
      ],
      "text/plain": [
       "    Year     Month   0\n",
       "0   2017     April   1\n",
       "1   2017    August   2\n",
       "2   2017  December   1\n",
       "3   2017  February   1\n",
       "4   2017      July   1\n",
       "..   ...       ...  ..\n",
       "58  2022  February  19\n",
       "59  2022   January  14\n",
       "60  2022      June   5\n",
       "61  2022     March  14\n",
       "62  2022       May  12\n",
       "\n",
       "[63 rows x 3 columns]"
      ]
     },
     "execution_count": 198,
     "metadata": {},
     "output_type": "execute_result"
    }
   ],
   "source": [
    "total_collisions_df"
   ]
  },
  {
   "cell_type": "code",
   "execution_count": 209,
   "id": "72da0116",
   "metadata": {},
   "outputs": [],
   "source": [
    "#collisions_df.level_values\n",
    "total_collisions_df = collisions_df.groupby(['Year', 'Month']).size().reset_index()\n",
    "total_collisions_df = total_collisions_df.rename(columns={0: 'Total Collisions'})"
   ]
  },
  {
   "cell_type": "code",
   "execution_count": 210,
   "id": "0e51f6f7",
   "metadata": {},
   "outputs": [],
   "source": [
    "total_collisions_df['Month'] = pd.Categorical(total_collisions_df['Month'], categories=months, ordered=True)"
   ]
  },
  {
   "cell_type": "code",
   "execution_count": 211,
   "id": "ae1ac033",
   "metadata": {},
   "outputs": [],
   "source": [
    "total_collisions_df = total_collisions_df.sort_values(['Year', 'Month'])"
   ]
  },
  {
   "cell_type": "code",
   "execution_count": 212,
   "id": "257cfc4c",
   "metadata": {},
   "outputs": [
    {
     "data": {
      "text/html": [
       "<div>\n",
       "<style scoped>\n",
       "    .dataframe tbody tr th:only-of-type {\n",
       "        vertical-align: middle;\n",
       "    }\n",
       "\n",
       "    .dataframe tbody tr th {\n",
       "        vertical-align: top;\n",
       "    }\n",
       "\n",
       "    .dataframe thead th {\n",
       "        text-align: right;\n",
       "    }\n",
       "</style>\n",
       "<table border=\"1\" class=\"dataframe\">\n",
       "  <thead>\n",
       "    <tr style=\"text-align: right;\">\n",
       "      <th></th>\n",
       "      <th>Year</th>\n",
       "      <th>Month</th>\n",
       "      <th>Total Collisions</th>\n",
       "    </tr>\n",
       "  </thead>\n",
       "  <tbody>\n",
       "    <tr>\n",
       "      <th>3</th>\n",
       "      <td>2017</td>\n",
       "      <td>February</td>\n",
       "      <td>1</td>\n",
       "    </tr>\n",
       "    <tr>\n",
       "      <th>6</th>\n",
       "      <td>2017</td>\n",
       "      <td>March</td>\n",
       "      <td>3</td>\n",
       "    </tr>\n",
       "    <tr>\n",
       "      <th>0</th>\n",
       "      <td>2017</td>\n",
       "      <td>April</td>\n",
       "      <td>1</td>\n",
       "    </tr>\n",
       "    <tr>\n",
       "      <th>7</th>\n",
       "      <td>2017</td>\n",
       "      <td>May</td>\n",
       "      <td>3</td>\n",
       "    </tr>\n",
       "    <tr>\n",
       "      <th>5</th>\n",
       "      <td>2017</td>\n",
       "      <td>June</td>\n",
       "      <td>2</td>\n",
       "    </tr>\n",
       "    <tr>\n",
       "      <th>...</th>\n",
       "      <td>...</td>\n",
       "      <td>...</td>\n",
       "      <td>...</td>\n",
       "    </tr>\n",
       "    <tr>\n",
       "      <th>58</th>\n",
       "      <td>2022</td>\n",
       "      <td>February</td>\n",
       "      <td>19</td>\n",
       "    </tr>\n",
       "    <tr>\n",
       "      <th>61</th>\n",
       "      <td>2022</td>\n",
       "      <td>March</td>\n",
       "      <td>14</td>\n",
       "    </tr>\n",
       "    <tr>\n",
       "      <th>57</th>\n",
       "      <td>2022</td>\n",
       "      <td>April</td>\n",
       "      <td>21</td>\n",
       "    </tr>\n",
       "    <tr>\n",
       "      <th>62</th>\n",
       "      <td>2022</td>\n",
       "      <td>May</td>\n",
       "      <td>12</td>\n",
       "    </tr>\n",
       "    <tr>\n",
       "      <th>60</th>\n",
       "      <td>2022</td>\n",
       "      <td>June</td>\n",
       "      <td>5</td>\n",
       "    </tr>\n",
       "  </tbody>\n",
       "</table>\n",
       "<p>63 rows × 3 columns</p>\n",
       "</div>"
      ],
      "text/plain": [
       "    Year     Month  Total Collisions\n",
       "3   2017  February                 1\n",
       "6   2017     March                 3\n",
       "0   2017     April                 1\n",
       "7   2017       May                 3\n",
       "5   2017      June                 2\n",
       "..   ...       ...               ...\n",
       "58  2022  February                19\n",
       "61  2022     March                14\n",
       "57  2022     April                21\n",
       "62  2022       May                12\n",
       "60  2022      June                 5\n",
       "\n",
       "[63 rows x 3 columns]"
      ]
     },
     "execution_count": 212,
     "metadata": {},
     "output_type": "execute_result"
    }
   ],
   "source": [
    "total_collisions_df"
   ]
  },
  {
   "cell_type": "code",
   "execution_count": 213,
   "id": "1ffb377b",
   "metadata": {},
   "outputs": [
    {
     "data": {
      "text/plain": [
       "<AxesSubplot:xlabel='Year', ylabel='Total Collisions'>"
      ]
     },
     "execution_count": 213,
     "metadata": {},
     "output_type": "execute_result"
    },
    {
     "data": {
      "image/png": "[encoded data removed]",
      "text/plain": [
       "<Figure size 432x288 with 1 Axes>"
      ]
     },
     "metadata": {
      "needs_background": "light"
     },
     "output_type": "display_data"
    }
   ],
   "source": [
    "sns.barplot(x='Year', y='Total Collisions', hue='Month', data=total_collisions_df)"
   ]
  },
  {
   "cell_type": "code",
   "execution_count": 214,
   "id": "a1878c3e",
   "metadata": {},
   "outputs": [],
   "source": [
    "collision_heatmap = total_collisions_df.pivot('Year', 'Month', 'Total Collisions')"
   ]
  },
  {
   "cell_type": "code",
   "execution_count": 215,
   "id": "0e594e74",
   "metadata": {},
   "outputs": [
    {
     "data": {
      "text/plain": [
       "<AxesSubplot:xlabel='Month', ylabel='Year'>"
      ]
     },
     "execution_count": 215,
     "metadata": {},
     "output_type": "execute_result"
    },
    {
     "data": {
      "image/png": "[encoded data removed]",
      "text/plain": [
       "<Figure size 432x288 with 2 Axes>"
      ]
     },
     "metadata": {
      "needs_background": "light"
     },
     "output_type": "display_data"
    }
   ],
   "source": [
    "sns.heatmap(collision_heatmap, cmap=sns.color_palette(\"Blues\", as_cmap=True))"
   ]
  },
  {
   "cell_type": "code",
   "execution_count": 216,
   "id": "044d6590",
   "metadata": {},
   "outputs": [],
   "source": [
    "total_collisions_per_month = total_collisions_df[total_collisions_df.loc[:, 'Year'].isin([2018, 2019, 2022, 2021])]"
   ]
  },
  {
   "cell_type": "code",
   "execution_count": 217,
   "id": "4b5a442b",
   "metadata": {},
   "outputs": [
    {
     "data": {
      "text/html": [
       "<div>\n",
       "<style scoped>\n",
       "    .dataframe tbody tr th:only-of-type {\n",
       "        vertical-align: middle;\n",
       "    }\n",
       "\n",
       "    .dataframe tbody tr th {\n",
       "        vertical-align: top;\n",
       "    }\n",
       "\n",
       "    .dataframe thead th {\n",
       "        text-align: right;\n",
       "    }\n",
       "</style>\n",
       "<table border=\"1\" class=\"dataframe\">\n",
       "  <thead>\n",
       "    <tr style=\"text-align: right;\">\n",
       "      <th></th>\n",
       "      <th>Month</th>\n",
       "      <th>Total Collisions</th>\n",
       "    </tr>\n",
       "  </thead>\n",
       "  <tbody>\n",
       "    <tr>\n",
       "      <th>0</th>\n",
       "      <td>January</td>\n",
       "      <td>27</td>\n",
       "    </tr>\n",
       "    <tr>\n",
       "      <th>1</th>\n",
       "      <td>February</td>\n",
       "      <td>35</td>\n",
       "    </tr>\n",
       "    <tr>\n",
       "      <th>2</th>\n",
       "      <td>March</td>\n",
       "      <td>37</td>\n",
       "    </tr>\n",
       "    <tr>\n",
       "      <th>3</th>\n",
       "      <td>April</td>\n",
       "      <td>33</td>\n",
       "    </tr>\n",
       "    <tr>\n",
       "      <th>4</th>\n",
       "      <td>May</td>\n",
       "      <td>34</td>\n",
       "    </tr>\n",
       "    <tr>\n",
       "      <th>5</th>\n",
       "      <td>June</td>\n",
       "      <td>32</td>\n",
       "    </tr>\n",
       "    <tr>\n",
       "      <th>6</th>\n",
       "      <td>July</td>\n",
       "      <td>31</td>\n",
       "    </tr>\n",
       "    <tr>\n",
       "      <th>7</th>\n",
       "      <td>August</td>\n",
       "      <td>32</td>\n",
       "    </tr>\n",
       "    <tr>\n",
       "      <th>8</th>\n",
       "      <td>September</td>\n",
       "      <td>23</td>\n",
       "    </tr>\n",
       "    <tr>\n",
       "      <th>9</th>\n",
       "      <td>October</td>\n",
       "      <td>37</td>\n",
       "    </tr>\n",
       "    <tr>\n",
       "      <th>10</th>\n",
       "      <td>November</td>\n",
       "      <td>39</td>\n",
       "    </tr>\n",
       "    <tr>\n",
       "      <th>11</th>\n",
       "      <td>December</td>\n",
       "      <td>22</td>\n",
       "    </tr>\n",
       "  </tbody>\n",
       "</table>\n",
       "</div>"
      ],
      "text/plain": [
       "        Month  Total Collisions\n",
       "0     January                27\n",
       "1    February                35\n",
       "2       March                37\n",
       "3       April                33\n",
       "4         May                34\n",
       "5        June                32\n",
       "6        July                31\n",
       "7      August                32\n",
       "8   September                23\n",
       "9     October                37\n",
       "10   November                39\n",
       "11   December                22"
      ]
     },
     "execution_count": 217,
     "metadata": {},
     "output_type": "execute_result"
    }
   ],
   "source": [
    "total_collisions_per_month.groupby('Month')['Total Collisions'].sum().reset_index()"
   ]
  },
  {
   "cell_type": "code",
   "execution_count": 218,
   "id": "72ca65d4",
   "metadata": {},
   "outputs": [
    {
     "data": {
      "image/png": "[encoded data removed]",
      "text/plain": [
       "<Figure size 432x288 with 1 Axes>"
      ]
     },
     "metadata": {
      "needs_background": "light"
     },
     "output_type": "display_data"
    }
   ],
   "source": [
    "sns.barplot(\n",
    "    x='Month', \n",
    "    y='Total Collisions', \n",
    "    data=total_collisions_per_month.groupby('Month')['Total Collisions'].sum().reset_index()\n",
    ")\n",
    "plt.xticks(rotation=90)\n",
    "plt.show()"
   ]
  },
  {
   "cell_type": "code",
   "execution_count": 219,
   "id": "8eab9bd3",
   "metadata": {},
   "outputs": [],
   "source": [
    "collisions_per_month = total_collisions_df['Total Collisions'].to_numpy()\n",
    "collisions_per_month = collisions_per_month[:-1]"
   ]
  },
  {
   "cell_type": "code",
   "execution_count": 220,
   "id": "1ce23252",
   "metadata": {},
   "outputs": [],
   "source": [
    "def moving_average(x, n):\n",
    "    return np.convolve(x, np.ones(n), 'valid') / n"
   ]
  },
  {
   "cell_type": "code",
   "execution_count": 240,
   "id": "1d2aa032",
   "metadata": {},
   "outputs": [],
   "source": [
    "k = 4\n",
    "log_collisions_moving_average = moving_average(np.log(collisions_per_month), k)"
   ]
  },
  {
   "cell_type": "code",
   "execution_count": 241,
   "id": "f0db7d48",
   "metadata": {
    "scrolled": true
   },
   "outputs": [
    {
     "data": {
      "text/plain": [
       "[<matplotlib.lines.Line2D at 0x297c09c40>]"
      ]
     },
     "execution_count": 241,
     "metadata": {},
     "output_type": "execute_result"
    },
    {
     "data": {
      "image/png": "[encoded data removed]",
      "text/plain": [
       "<Figure size 432x288 with 1 Axes>"
      ]
     },
     "metadata": {
      "needs_background": "light"
     },
     "output_type": "display_data"
    }
   ],
   "source": [
    "plt.plot(range(len(log_collisions_moving_average)), log_collisions_moving_average)"
   ]
  },
  {
   "cell_type": "code",
   "execution_count": 244,
   "id": "d12941a6",
   "metadata": {},
   "outputs": [],
   "source": [
    "diffs = np.log(collisions_per_month[k:]) - log_collisions_moving_average[:-1]"
   ]
  },
  {
   "cell_type": "code",
   "execution_count": 245,
   "id": "31074cc1",
   "metadata": {},
   "outputs": [
    {
     "data": {
      "text/plain": [
       "<seaborn.axisgrid.FacetGrid at 0x297bfd100>"
      ]
     },
     "execution_count": 245,
     "metadata": {},
     "output_type": "execute_result"
    },
    {
     "data": {
      "image/png": "[encoded data removed]",
      "text/plain": [
       "<Figure size 360x360 with 1 Axes>"
      ]
     },
     "metadata": {
      "needs_background": "light"
     },
     "output_type": "display_data"
    }
   ],
   "source": [
    "sns.displot(diffs)"
   ]
  },
  {
   "cell_type": "code",
   "execution_count": 246,
   "id": "9f5703e1",
   "metadata": {},
   "outputs": [
    {
     "data": {
      "text/plain": [
       "(0.08924169749444212, 0.6829443045781257)"
      ]
     },
     "execution_count": 246,
     "metadata": {},
     "output_type": "execute_result"
    }
   ],
   "source": [
    "mean = np.average(diffs)\n",
    "std = np.std(diffs)\n",
    "\n",
    "(mean, std)"
   ]
  },
  {
   "cell_type": "code",
   "execution_count": 247,
   "id": "fc27406f",
   "metadata": {},
   "outputs": [],
   "source": [
    "current_avg = log_collisions_moving_average[-1]"
   ]
  },
  {
   "cell_type": "code",
   "execution_count": 251,
   "id": "75e1e063",
   "metadata": {
    "scrolled": true
   },
   "outputs": [],
   "source": [
    "prob_less_than_5 = norm.cdf(((np.log(5) - current_avg) - mean) / std)\n",
    "prob_less_than_10 = norm.cdf(((np.log(10) - current_avg) - mean) / std)\n",
    "prob_less_than_15 = norm.cdf(((np.log(15) - current_avg) - mean) / std)\n",
    "prob_less_than_20 = norm.cdf(((np.log(20) - current_avg) - mean) / std)\n",
    "prob_less_than_25 = norm.cdf(((np.log(25) - current_avg) - mean) / std)"
   ]
  },
  {
   "cell_type": "code",
   "execution_count": 256,
   "id": "14e99ab3",
   "metadata": {},
   "outputs": [
    {
     "data": {
      "text/plain": [
       "(0.03273203604356617,\n",
       " 0.17134789944449336,\n",
       " 0.20363203017779413,\n",
       " 0.16677262881269062,\n",
       " 0.4255154055214557)"
      ]
     },
     "execution_count": 256,
     "metadata": {},
     "output_type": "execute_result"
    }
   ],
   "source": [
    "(prob_less_than_5,\n",
    "prob_less_than_10 - prob_less_than_5,\n",
    "prob_less_than_15 - prob_less_than_10,\n",
    "prob_less_than_20 - prob_less_than_15,\n",
    "1 - prob_less_than_20,)"
   ]
  },
  {
   "cell_type": "code",
   "execution_count": null,
   "id": "5cea5e01",
   "metadata": {},
   "outputs": [],
   "source": []
  }
 ],
 "metadata": {
  "kernelspec": {
   "display_name": "Python 3 (ipykernel)",
   "language": "python",
   "name": "python3"
  },
  "language_info": {
   "codemirror_mode": {
    "name": "ipython",
    "version": 3
   },
   "file_extension": ".py",
   "mimetype": "text/x-python",
   "name": "python",
   "nbconvert_exporter": "python",
   "pygments_lexer": "ipython3",
   "version": "3.9.7"
  }
 },
 "nbformat": 4,
 "nbformat_minor": 5
}
